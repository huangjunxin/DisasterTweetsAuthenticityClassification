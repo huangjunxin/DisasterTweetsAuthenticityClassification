{
  "nbformat": 4,
  "nbformat_minor": 0,
  "metadata": {
    "colab": {
      "provenance": []
    },
    "kernelspec": {
      "name": "python3",
      "display_name": "Python 3"
    },
    "language_info": {
      "name": "python"
    },
    "accelerator": "GPU",
    "gpuClass": "standard"
  },
  "cells": [
    {
      "cell_type": "code",
      "source": [
        "!pip install Sastrawi"
      ],
      "metadata": {
        "colab": {
          "base_uri": "https://localhost:8080/"
        },
        "id": "BpJ5fjsRL7bb",
        "outputId": "40c169bb-3ddb-48ce-85a3-27e039f9d529"
      },
      "execution_count": 2,
      "outputs": [
        {
          "output_type": "stream",
          "name": "stdout",
          "text": [
            "Looking in indexes: https://pypi.org/simple, https://us-python.pkg.dev/colab-wheels/public/simple/\n",
            "Collecting Sastrawi\n",
            "  Downloading Sastrawi-1.0.1-py2.py3-none-any.whl (209 kB)\n",
            "\u001b[K     |████████████████████████████████| 209 kB 29.0 MB/s \n",
            "\u001b[?25hInstalling collected packages: Sastrawi\n",
            "Successfully installed Sastrawi-1.0.1\n"
          ]
        }
      ]
    },
    {
      "cell_type": "code",
      "execution_count": 3,
      "metadata": {
        "id": "QW_iby7GK_zK"
      },
      "outputs": [],
      "source": [
        "import pandas as pd\n",
        "import numpy as np\n",
        "\n",
        "import matplotlib.pyplot as plt\n",
        "import matplotlib as mpl\n",
        "import seaborn as sns\n",
        "from PIL import Image \n",
        "# un comment if you already download it\n",
        "# import nltk\n",
        "# nltk.download('stopwords')\n",
        "# nltk.download('punkt')\n",
        "from sklearn.feature_extraction.text import CountVectorizer\n",
        "from wordcloud import WordCloud\n",
        "\n",
        "from sklearn.model_selection import train_test_split\n",
        "from sklearn.feature_extraction.text import CountVectorizer\n",
        "\n",
        "from nltk.corpus import stopwords\n",
        "from nltk.tokenize import word_tokenize\n",
        "from Sastrawi.Stemmer.StemmerFactory import StemmerFactory\n",
        "import string\n",
        "import re\n",
        "import html\n",
        "\n",
        "\n",
        "#saving model\n",
        "import pickle\n",
        "\n",
        "#inference\n",
        "import json\n",
        "import requests\n",
        "# Model Evaluation\n",
        "from sklearn.metrics import ConfusionMatrixDisplay,confusion_matrix,classification_report\n",
        "\n",
        "# Modelling \n",
        "from tensorflow.keras.layers import Dense, GlobalAveragePooling1D,Bidirectional, Input, LSTM, GRU\n",
        "from tensorflow.keras.models import Model, Sequential\n",
        "from tensorflow.keras.layers import TextVectorization, Embedding\n",
        "from tensorflow.keras.utils import to_categorical\n",
        "from tensorflow.keras.callbacks import EarlyStopping\n",
        "from tensorflow import keras\n",
        "import tensorflow as tf"
      ]
    },
    {
      "cell_type": "code",
      "source": [
        "x_train = pd.read_csv('/content/drive/MyDrive/7015-group-project-main/7015-group-project-main/X_train.csv')\n",
        "x_valid = pd.read_csv('/content/drive/MyDrive/7015-group-project-main/7015-group-project-main/X_val.csv')\n",
        "y_train = pd.read_csv('/content/drive/MyDrive/7015-group-project-main/7015-group-project-main/y_train.csv')\n",
        "y_valid = pd.read_csv('/content/drive/MyDrive/7015-group-project-main/7015-group-project-main/y_val.csv')"
      ],
      "metadata": {
        "id": "yesxH1TlLub0"
      },
      "execution_count": 4,
      "outputs": []
    },
    {
      "cell_type": "code",
      "source": [
        "x_train"
      ],
      "metadata": {
        "colab": {
          "base_uri": "https://localhost:8080/",
          "height": 423
        },
        "id": "eU2wRQeqVIIT",
        "outputId": "ba4a09e1-f22d-4e24-cace-728262c112cf"
      },
      "execution_count": 10,
      "outputs": [
        {
          "output_type": "execute_result",
          "data": {
            "text/plain": [
              "        id              keyword            location  \\\n",
              "0     2714              crushed         Chicago, IL   \n",
              "1     7361           obliterate         Cymru araul   \n",
              "2     1290               bloody             Chicago   \n",
              "3     1932  burning%20buildings                 NaN   \n",
              "4     4041             disaster         Calgary, AB   \n",
              "...    ...                  ...                 ...   \n",
              "6085  7532          oil%20spill    Street of Dallas   \n",
              "6086  1821               burned  toronto Û¢ dallas   \n",
              "6087  9504            terrorist                 NaN   \n",
              "6088  2797               curfew            IM LOST    \n",
              "6089  3667              destroy                 NaN   \n",
              "\n",
              "                                           cleaned_text  \n",
              "0       jimmyfallon crush squirrel bone mortar pestl...  \n",
              "1      mccainenl think spectacular look stonewal rio...  \n",
              "2     can t bloodi wait   soni set date stephen king...  \n",
              "3     protest ralli stone mountain  atleast they r b...  \n",
              "4      rbcinsur quot websit   disaster  tri 3 browse...  \n",
              "...                                                 ...  \n",
              "6085     refugio oil spill may costlier bigger project   \n",
              "6086  hate im tri straighten hair brother come swoop...  \n",
              "6087               pull fight hoe call zayn terrorist    \n",
              "6088             da judg gave di girl 5pm curfew         \n",
              "6089  get   150 free bet regist boylesport casino lu...  \n",
              "\n",
              "[6090 rows x 4 columns]"
            ],
            "text/html": [
              "\n",
              "  <div id=\"df-679c146b-2ca9-4e3f-a3c3-34d827634cab\">\n",
              "    <div class=\"colab-df-container\">\n",
              "      <div>\n",
              "<style scoped>\n",
              "    .dataframe tbody tr th:only-of-type {\n",
              "        vertical-align: middle;\n",
              "    }\n",
              "\n",
              "    .dataframe tbody tr th {\n",
              "        vertical-align: top;\n",
              "    }\n",
              "\n",
              "    .dataframe thead th {\n",
              "        text-align: right;\n",
              "    }\n",
              "</style>\n",
              "<table border=\"1\" class=\"dataframe\">\n",
              "  <thead>\n",
              "    <tr style=\"text-align: right;\">\n",
              "      <th></th>\n",
              "      <th>id</th>\n",
              "      <th>keyword</th>\n",
              "      <th>location</th>\n",
              "      <th>cleaned_text</th>\n",
              "    </tr>\n",
              "  </thead>\n",
              "  <tbody>\n",
              "    <tr>\n",
              "      <th>0</th>\n",
              "      <td>2714</td>\n",
              "      <td>crushed</td>\n",
              "      <td>Chicago, IL</td>\n",
              "      <td>jimmyfallon crush squirrel bone mortar pestl...</td>\n",
              "    </tr>\n",
              "    <tr>\n",
              "      <th>1</th>\n",
              "      <td>7361</td>\n",
              "      <td>obliterate</td>\n",
              "      <td>Cymru araul</td>\n",
              "      <td>mccainenl think spectacular look stonewal rio...</td>\n",
              "    </tr>\n",
              "    <tr>\n",
              "      <th>2</th>\n",
              "      <td>1290</td>\n",
              "      <td>bloody</td>\n",
              "      <td>Chicago</td>\n",
              "      <td>can t bloodi wait   soni set date stephen king...</td>\n",
              "    </tr>\n",
              "    <tr>\n",
              "      <th>3</th>\n",
              "      <td>1932</td>\n",
              "      <td>burning%20buildings</td>\n",
              "      <td>NaN</td>\n",
              "      <td>protest ralli stone mountain  atleast they r b...</td>\n",
              "    </tr>\n",
              "    <tr>\n",
              "      <th>4</th>\n",
              "      <td>4041</td>\n",
              "      <td>disaster</td>\n",
              "      <td>Calgary, AB</td>\n",
              "      <td>rbcinsur quot websit   disaster  tri 3 browse...</td>\n",
              "    </tr>\n",
              "    <tr>\n",
              "      <th>...</th>\n",
              "      <td>...</td>\n",
              "      <td>...</td>\n",
              "      <td>...</td>\n",
              "      <td>...</td>\n",
              "    </tr>\n",
              "    <tr>\n",
              "      <th>6085</th>\n",
              "      <td>7532</td>\n",
              "      <td>oil%20spill</td>\n",
              "      <td>Street of Dallas</td>\n",
              "      <td>refugio oil spill may costlier bigger project</td>\n",
              "    </tr>\n",
              "    <tr>\n",
              "      <th>6086</th>\n",
              "      <td>1821</td>\n",
              "      <td>burned</td>\n",
              "      <td>toronto Û¢ dallas</td>\n",
              "      <td>hate im tri straighten hair brother come swoop...</td>\n",
              "    </tr>\n",
              "    <tr>\n",
              "      <th>6087</th>\n",
              "      <td>9504</td>\n",
              "      <td>terrorist</td>\n",
              "      <td>NaN</td>\n",
              "      <td>pull fight hoe call zayn terrorist</td>\n",
              "    </tr>\n",
              "    <tr>\n",
              "      <th>6088</th>\n",
              "      <td>2797</td>\n",
              "      <td>curfew</td>\n",
              "      <td>IM LOST</td>\n",
              "      <td>da judg gave di girl 5pm curfew</td>\n",
              "    </tr>\n",
              "    <tr>\n",
              "      <th>6089</th>\n",
              "      <td>3667</td>\n",
              "      <td>destroy</td>\n",
              "      <td>NaN</td>\n",
              "      <td>get   150 free bet regist boylesport casino lu...</td>\n",
              "    </tr>\n",
              "  </tbody>\n",
              "</table>\n",
              "<p>6090 rows × 4 columns</p>\n",
              "</div>\n",
              "      <button class=\"colab-df-convert\" onclick=\"convertToInteractive('df-679c146b-2ca9-4e3f-a3c3-34d827634cab')\"\n",
              "              title=\"Convert this dataframe to an interactive table.\"\n",
              "              style=\"display:none;\">\n",
              "        \n",
              "  <svg xmlns=\"http://www.w3.org/2000/svg\" height=\"24px\"viewBox=\"0 0 24 24\"\n",
              "       width=\"24px\">\n",
              "    <path d=\"M0 0h24v24H0V0z\" fill=\"none\"/>\n",
              "    <path d=\"M18.56 5.44l.94 2.06.94-2.06 2.06-.94-2.06-.94-.94-2.06-.94 2.06-2.06.94zm-11 1L8.5 8.5l.94-2.06 2.06-.94-2.06-.94L8.5 2.5l-.94 2.06-2.06.94zm10 10l.94 2.06.94-2.06 2.06-.94-2.06-.94-.94-2.06-.94 2.06-2.06.94z\"/><path d=\"M17.41 7.96l-1.37-1.37c-.4-.4-.92-.59-1.43-.59-.52 0-1.04.2-1.43.59L10.3 9.45l-7.72 7.72c-.78.78-.78 2.05 0 2.83L4 21.41c.39.39.9.59 1.41.59.51 0 1.02-.2 1.41-.59l7.78-7.78 2.81-2.81c.8-.78.8-2.07 0-2.86zM5.41 20L4 18.59l7.72-7.72 1.47 1.35L5.41 20z\"/>\n",
              "  </svg>\n",
              "      </button>\n",
              "      \n",
              "  <style>\n",
              "    .colab-df-container {\n",
              "      display:flex;\n",
              "      flex-wrap:wrap;\n",
              "      gap: 12px;\n",
              "    }\n",
              "\n",
              "    .colab-df-convert {\n",
              "      background-color: #E8F0FE;\n",
              "      border: none;\n",
              "      border-radius: 50%;\n",
              "      cursor: pointer;\n",
              "      display: none;\n",
              "      fill: #1967D2;\n",
              "      height: 32px;\n",
              "      padding: 0 0 0 0;\n",
              "      width: 32px;\n",
              "    }\n",
              "\n",
              "    .colab-df-convert:hover {\n",
              "      background-color: #E2EBFA;\n",
              "      box-shadow: 0px 1px 2px rgba(60, 64, 67, 0.3), 0px 1px 3px 1px rgba(60, 64, 67, 0.15);\n",
              "      fill: #174EA6;\n",
              "    }\n",
              "\n",
              "    [theme=dark] .colab-df-convert {\n",
              "      background-color: #3B4455;\n",
              "      fill: #D2E3FC;\n",
              "    }\n",
              "\n",
              "    [theme=dark] .colab-df-convert:hover {\n",
              "      background-color: #434B5C;\n",
              "      box-shadow: 0px 1px 3px 1px rgba(0, 0, 0, 0.15);\n",
              "      filter: drop-shadow(0px 1px 2px rgba(0, 0, 0, 0.3));\n",
              "      fill: #FFFFFF;\n",
              "    }\n",
              "  </style>\n",
              "\n",
              "      <script>\n",
              "        const buttonEl =\n",
              "          document.querySelector('#df-679c146b-2ca9-4e3f-a3c3-34d827634cab button.colab-df-convert');\n",
              "        buttonEl.style.display =\n",
              "          google.colab.kernel.accessAllowed ? 'block' : 'none';\n",
              "\n",
              "        async function convertToInteractive(key) {\n",
              "          const element = document.querySelector('#df-679c146b-2ca9-4e3f-a3c3-34d827634cab');\n",
              "          const dataTable =\n",
              "            await google.colab.kernel.invokeFunction('convertToInteractive',\n",
              "                                                     [key], {});\n",
              "          if (!dataTable) return;\n",
              "\n",
              "          const docLinkHtml = 'Like what you see? Visit the ' +\n",
              "            '<a target=\"_blank\" href=https://colab.research.google.com/notebooks/data_table.ipynb>data table notebook</a>'\n",
              "            + ' to learn more about interactive tables.';\n",
              "          element.innerHTML = '';\n",
              "          dataTable['output_type'] = 'display_data';\n",
              "          await google.colab.output.renderOutput(dataTable, element);\n",
              "          const docLink = document.createElement('div');\n",
              "          docLink.innerHTML = docLinkHtml;\n",
              "          element.appendChild(docLink);\n",
              "        }\n",
              "      </script>\n",
              "    </div>\n",
              "  </div>\n",
              "  "
            ]
          },
          "metadata": {},
          "execution_count": 10
        }
      ]
    },
    {
      "cell_type": "code",
      "source": [
        "x_train_final = x_train['cleaned_text'].to_list()\n",
        "x_valid_final = x_valid['cleaned_text'].to_list()\n",
        "# x_train_final = np.asarray(x_train).astype('float32')\n",
        "# x_valid_final = np.asarray(x_valid).astype('float32')\n",
        "x_train_final[-5:]"
      ],
      "metadata": {
        "colab": {
          "base_uri": "https://localhost:8080/"
        },
        "id": "n4_EoWSKVRE-",
        "outputId": "61640577-0bdb-42c4-ca6e-dee4c91532e1"
      },
      "execution_count": 90,
      "outputs": [
        {
          "output_type": "execute_result",
          "data": {
            "text/plain": [
              "['refugio oil spill may costlier bigger project ',\n",
              " 'hate im tri straighten hair brother come swoop behind scare burn finger',\n",
              " 'pull fight hoe call zayn terrorist  ',\n",
              " 'da judg gave di girl 5pm curfew       ',\n",
              " 'get   150 free bet regist boylesport casino luck destroy  ']"
            ]
          },
          "metadata": {},
          "execution_count": 90
        }
      ]
    },
    {
      "cell_type": "code",
      "source": [
        "# y_test_final = to_categorical(y_test)\n",
        "y_train_final = to_categorical(y_train['target'])\n",
        "y_valid_final = to_categorical(y_valid['target'])\n",
        "# y_train_final = y_train['target'].to_list()\n",
        "# y_valid_final = y_valid['target'].to_list()\n",
        "# y_valid_final[-5:]\n",
        "y_train_final"
      ],
      "metadata": {
        "colab": {
          "base_uri": "https://localhost:8080/"
        },
        "id": "nVFNBeRwSkXM",
        "outputId": "abab8e97-8a0c-405e-af43-f27f9246b0d0"
      },
      "execution_count": 114,
      "outputs": [
        {
          "output_type": "execute_result",
          "data": {
            "text/plain": [
              "array([[1., 0.],\n",
              "       [0., 1.],\n",
              "       [1., 0.],\n",
              "       ...,\n",
              "       [0., 1.],\n",
              "       [1., 0.],\n",
              "       [1., 0.]], dtype=float32)"
            ]
          },
          "metadata": {},
          "execution_count": 114
        }
      ]
    },
    {
      "cell_type": "code",
      "source": [
        "keras.backend.clear_session()\n",
        "np.random.seed(12)\n",
        "tf.random.set_seed(12)"
      ],
      "metadata": {
        "id": "J9YtxO0RSrY2"
      },
      "execution_count": 115,
      "outputs": []
    },
    {
      "cell_type": "code",
      "source": [
        "AUTOTUNE = tf.data.AUTOTUNE # auto tune prefetch\n",
        "batch_size = 128\n",
        "\n",
        "# data_batches = tf.data.Dataset.from_tensor_slices((x_train_trans, y_train_final)).shuffled_data = preprocessed_data.shuffle(shuffle_buffer_size)\n",
        "\n",
        "\n",
        "train_final = tf.data.Dataset.from_tensor_slices((x_train_final, y_train_final)).batch(batch_size).shuffle(64).cache().prefetch(AUTOTUNE)\n",
        "# test_final = tf.data.Dataset.from_tensor_slices((X_test, y_test_final)).batch(batch_size).cache().prefetch(AUTOTUNE)\n",
        "val_final = tf.data.Dataset.from_tensor_slices((x_valid_final, y_valid_final)).batch(batch_size).shuffle(64).cache().prefetch(AUTOTUNE)"
      ],
      "metadata": {
        "id": "71osEEuDSurM"
      },
      "execution_count": 116,
      "outputs": []
    },
    {
      "cell_type": "code",
      "source": [
        "#Define Vectorize \n",
        "Vectorize = CountVectorizer()\n",
        "# Fit only on X_train, and transform X_train\n",
        "X_train_vec = Vectorize.fit_transform(x_train_final)\n",
        "# transform data validation\n",
        "X_train_vec = Vectorize.transform(x_train_final)\n",
        "X_valid_vec = Vectorize.transform(x_valid_final)\n",
        "\n",
        "# count Vocab from the vectorizer\n",
        "count_vocab = len(Vectorize.vocabulary_.keys())\n",
        "# maximum word count of the documents\n",
        "max_word_count = max([len(i.split(\" \")) for i in x_train_final])\n",
        "\n",
        "print(\"Count Vocabs : \",count_vocab)\n",
        "print(\"Max Count In a Document :\",max_word_count,\"word\")\n",
        "\n",
        "vectorize_layer = TextVectorization(\n",
        "    max_tokens=count_vocab,\n",
        "    split=\"whitespace\",\n",
        "    ngrams=None,\n",
        "    output_mode='int',\n",
        "    output_sequence_length=max_word_count,\n",
        "    input_shape=(1,))\n",
        "    \n",
        "\n",
        "vectorize_layer.adapt(x_train_final)"
      ],
      "metadata": {
        "colab": {
          "base_uri": "https://localhost:8080/"
        },
        "id": "eSecUP55YLIA",
        "outputId": "a5b8044d-78e1-45f9-aa97-e998ff6c1d9b"
      },
      "execution_count": 117,
      "outputs": [
        {
          "output_type": "stream",
          "name": "stdout",
          "text": [
            "Count Vocabs :  13341\n",
            "Max Count In a Document : 75 word\n"
          ]
        }
      ]
    },
    {
      "cell_type": "code",
      "source": [
        "# Embedding\n",
        "\n",
        "embedding = Embedding(input_dim=count_vocab,\n",
        "                      output_dim=128,\n",
        "                      embeddings_initializer=\"uniform\",\n",
        "                      input_length=max_word_count)"
      ],
      "metadata": {
        "id": "D90AV29jYR4p"
      },
      "execution_count": 118,
      "outputs": []
    },
    {
      "cell_type": "code",
      "source": [
        "# callback for stopping early epochs with restore_best_weights\n",
        "early_stopping_cb = keras.callbacks.EarlyStopping(patience=10,\n",
        "                                                  restore_best_weights=True)"
      ],
      "metadata": {
        "id": "2ke-TpquYR2P"
      },
      "execution_count": 119,
      "outputs": []
    },
    {
      "cell_type": "code",
      "source": [
        "model_rnn = Sequential()\n",
        "model_rnn.add(vectorize_layer)\n",
        "model_rnn.add(embedding)\n",
        "model_rnn.add(GlobalAveragePooling1D())\n",
        "model_rnn.add(Dense(144,activation='relu'))\n",
        "model_rnn.add(Dense(72,activation='relu'))\n",
        "model_rnn.add(Dense(27,activation='relu'))\n",
        "model_rnn.add(Dense(9,activation='relu'))\n",
        "model_rnn.add(Dense(3,activation='softmax'))\n",
        "\n",
        "model_rnn.compile(loss='CategoricalCrossentropy',optimizer='adamax',metrics='Precision')"
      ],
      "metadata": {
        "id": "mIL05AdiYR0A"
      },
      "execution_count": 120,
      "outputs": []
    },
    {
      "cell_type": "code",
      "source": [
        "model_rnn.summary()"
      ],
      "metadata": {
        "colab": {
          "base_uri": "https://localhost:8080/"
        },
        "id": "RkRtwbLqYRx9",
        "outputId": "51955788-0c2d-443a-8831-d37e88fecb72"
      },
      "execution_count": 121,
      "outputs": [
        {
          "output_type": "stream",
          "name": "stdout",
          "text": [
            "Model: \"sequential\"\n",
            "_________________________________________________________________\n",
            " Layer (type)                Output Shape              Param #   \n",
            "=================================================================\n",
            " text_vectorization (TextVec  (None, 75)               0         \n",
            " torization)                                                     \n",
            "                                                                 \n",
            " embedding (Embedding)       (None, 75, 128)           1707648   \n",
            "                                                                 \n",
            " global_average_pooling1d (G  (None, 128)              0         \n",
            " lobalAveragePooling1D)                                          \n",
            "                                                                 \n",
            " dense (Dense)               (None, 144)               18576     \n",
            "                                                                 \n",
            " dense_1 (Dense)             (None, 72)                10440     \n",
            "                                                                 \n",
            " dense_2 (Dense)             (None, 27)                1971      \n",
            "                                                                 \n",
            " dense_3 (Dense)             (None, 9)                 252       \n",
            "                                                                 \n",
            " dense_4 (Dense)             (None, 3)                 30        \n",
            "                                                                 \n",
            "=================================================================\n",
            "Total params: 1,738,917\n",
            "Trainable params: 1,738,917\n",
            "Non-trainable params: 0\n",
            "_________________________________________________________________\n"
          ]
        }
      ]
    },
    {
      "cell_type": "code",
      "source": [
        "model_rnn_opt = Sequential()\n",
        "model_rnn_opt.add(vectorize_layer)\n",
        "model_rnn_opt.add(embedding)\n",
        "model_rnn_opt.add(GlobalAveragePooling1D())\n",
        "\n",
        "model_rnn_opt.add(Dense(128,kernel_regularizer=keras.regularizers.l2(),kernel_initializer=keras.initializers.LecunUniform(seed=12)))\n",
        "model_rnn_opt.add(keras.layers.Dropout(rate=0.52))\n",
        "model_rnn_opt.add(tf.keras.layers.BatchNormalization())\n",
        "model_rnn_opt.add(keras.layers.Activation('selu'))\n",
        "\n",
        "model_rnn_opt.add(Dense(64,kernel_regularizer=keras.regularizers.l2(),kernel_initializer=keras.initializers.LecunUniform(seed=12)))\n",
        "model_rnn_opt.add(keras.layers.Dropout(rate=.52))\n",
        "model_rnn_opt.add(tf.keras.layers.BatchNormalization())\n",
        "model_rnn_opt.add(keras.layers.Activation('selu'))\n",
        "\n",
        "model_rnn_opt.add(Dense(32,kernel_regularizer=keras.regularizers.l2(),kernel_initializer=keras.initializers.LecunUniform(seed=12)))\n",
        "model_rnn_opt.add(keras.layers.Dropout(rate=0.52))\n",
        "model_rnn_opt.add(tf.keras.layers.BatchNormalization())\n",
        "model_rnn_opt.add(keras.layers.Activation('selu'))\n",
        "\n",
        "model_rnn_opt.add(Dense(16,kernel_regularizer=keras.regularizers.l2(),kernel_initializer=keras.initializers.LecunUniform(seed=12)))\n",
        "model_rnn_opt.add(keras.layers.Dropout(rate=0.52))\n",
        "model_rnn_opt.add(tf.keras.layers.BatchNormalization())\n",
        "model_rnn_opt.add(keras.layers.Activation('selu'))\n",
        "\n",
        "model_rnn_opt.add(Dense(3,activation='softmax'))\n",
        "\n",
        "\n",
        "model_rnn_opt.compile(loss='CategoricalCrossentropy',optimizer=keras.optimizers.Adam(learning_rate=0.0022),metrics='Precision')"
      ],
      "metadata": {
        "id": "EL4IcccgYRvv"
      },
      "execution_count": 122,
      "outputs": []
    },
    {
      "cell_type": "code",
      "source": [
        "model_rnn_opt.summary()"
      ],
      "metadata": {
        "colab": {
          "base_uri": "https://localhost:8080/"
        },
        "id": "WIY1VVeYYRtN",
        "outputId": "28dbcb4f-f569-4b47-d7dd-78f89a9b541f"
      },
      "execution_count": 123,
      "outputs": [
        {
          "output_type": "stream",
          "name": "stdout",
          "text": [
            "Model: \"sequential_1\"\n",
            "_________________________________________________________________\n",
            " Layer (type)                Output Shape              Param #   \n",
            "=================================================================\n",
            " text_vectorization (TextVec  (None, 75)               0         \n",
            " torization)                                                     \n",
            "                                                                 \n",
            " embedding (Embedding)       (None, 75, 128)           1707648   \n",
            "                                                                 \n",
            " global_average_pooling1d_1   (None, 128)              0         \n",
            " (GlobalAveragePooling1D)                                        \n",
            "                                                                 \n",
            " dense_5 (Dense)             (None, 128)               16512     \n",
            "                                                                 \n",
            " dropout (Dropout)           (None, 128)               0         \n",
            "                                                                 \n",
            " batch_normalization (BatchN  (None, 128)              512       \n",
            " ormalization)                                                   \n",
            "                                                                 \n",
            " activation (Activation)     (None, 128)               0         \n",
            "                                                                 \n",
            " dense_6 (Dense)             (None, 64)                8256      \n",
            "                                                                 \n",
            " dropout_1 (Dropout)         (None, 64)                0         \n",
            "                                                                 \n",
            " batch_normalization_1 (Batc  (None, 64)               256       \n",
            " hNormalization)                                                 \n",
            "                                                                 \n",
            " activation_1 (Activation)   (None, 64)                0         \n",
            "                                                                 \n",
            " dense_7 (Dense)             (None, 32)                2080      \n",
            "                                                                 \n",
            " dropout_2 (Dropout)         (None, 32)                0         \n",
            "                                                                 \n",
            " batch_normalization_2 (Batc  (None, 32)               128       \n",
            " hNormalization)                                                 \n",
            "                                                                 \n",
            " activation_2 (Activation)   (None, 32)                0         \n",
            "                                                                 \n",
            " dense_8 (Dense)             (None, 16)                528       \n",
            "                                                                 \n",
            " dropout_3 (Dropout)         (None, 16)                0         \n",
            "                                                                 \n",
            " batch_normalization_3 (Batc  (None, 16)               64        \n",
            " hNormalization)                                                 \n",
            "                                                                 \n",
            " activation_3 (Activation)   (None, 16)                0         \n",
            "                                                                 \n",
            " dense_9 (Dense)             (None, 3)                 51        \n",
            "                                                                 \n",
            "=================================================================\n",
            "Total params: 1,736,035\n",
            "Trainable params: 1,735,555\n",
            "Non-trainable params: 480\n",
            "_________________________________________________________________\n"
          ]
        }
      ]
    },
    {
      "cell_type": "code",
      "source": [
        "model_rnn_hist = model_rnn.fit(train_final,\n",
        "                         epochs=100,\n",
        "                         validation_data=(val_final),\n",
        "                         callbacks=[early_stopping_cb],class_weight = { 0 : 10 , 1 : 150  ,2 : 25})\n"
      ],
      "metadata": {
        "colab": {
          "base_uri": "https://localhost:8080/",
          "height": 765
        },
        "id": "PkXICFw2YRqn",
        "outputId": "bbb1169e-8a72-4501-c3da-ea3774abcf03"
      },
      "execution_count": 125,
      "outputs": [
        {
          "output_type": "stream",
          "name": "stdout",
          "text": [
            "Epoch 1/100\n"
          ]
        },
        {
          "output_type": "error",
          "ename": "ValueError",
          "evalue": "ignored",
          "traceback": [
            "\u001b[0;31m---------------------------------------------------------------------------\u001b[0m",
            "\u001b[0;31mValueError\u001b[0m                                Traceback (most recent call last)",
            "\u001b[0;32m<ipython-input-125-d99c47000ada>\u001b[0m in \u001b[0;36m<module>\u001b[0;34m\u001b[0m\n\u001b[1;32m      2\u001b[0m                          \u001b[0mepochs\u001b[0m\u001b[0;34m=\u001b[0m\u001b[0;36m100\u001b[0m\u001b[0;34m,\u001b[0m\u001b[0;34m\u001b[0m\u001b[0;34m\u001b[0m\u001b[0m\n\u001b[1;32m      3\u001b[0m                          \u001b[0mvalidation_data\u001b[0m\u001b[0;34m=\u001b[0m\u001b[0;34m(\u001b[0m\u001b[0mval_final\u001b[0m\u001b[0;34m)\u001b[0m\u001b[0;34m,\u001b[0m\u001b[0;34m\u001b[0m\u001b[0;34m\u001b[0m\u001b[0m\n\u001b[0;32m----> 4\u001b[0;31m                          callbacks=[early_stopping_cb],class_weight = { 0 : 10 , 1 : 150  ,2 : 25})\n\u001b[0m",
            "\u001b[0;32m/usr/local/lib/python3.7/dist-packages/keras/utils/traceback_utils.py\u001b[0m in \u001b[0;36merror_handler\u001b[0;34m(*args, **kwargs)\u001b[0m\n\u001b[1;32m     65\u001b[0m     \u001b[0;32mexcept\u001b[0m \u001b[0mException\u001b[0m \u001b[0;32mas\u001b[0m \u001b[0me\u001b[0m\u001b[0;34m:\u001b[0m  \u001b[0;31m# pylint: disable=broad-except\u001b[0m\u001b[0;34m\u001b[0m\u001b[0;34m\u001b[0m\u001b[0m\n\u001b[1;32m     66\u001b[0m       \u001b[0mfiltered_tb\u001b[0m \u001b[0;34m=\u001b[0m \u001b[0m_process_traceback_frames\u001b[0m\u001b[0;34m(\u001b[0m\u001b[0me\u001b[0m\u001b[0;34m.\u001b[0m\u001b[0m__traceback__\u001b[0m\u001b[0;34m)\u001b[0m\u001b[0;34m\u001b[0m\u001b[0;34m\u001b[0m\u001b[0m\n\u001b[0;32m---> 67\u001b[0;31m       \u001b[0;32mraise\u001b[0m \u001b[0me\u001b[0m\u001b[0;34m.\u001b[0m\u001b[0mwith_traceback\u001b[0m\u001b[0;34m(\u001b[0m\u001b[0mfiltered_tb\u001b[0m\u001b[0;34m)\u001b[0m \u001b[0;32mfrom\u001b[0m \u001b[0;32mNone\u001b[0m\u001b[0;34m\u001b[0m\u001b[0;34m\u001b[0m\u001b[0m\n\u001b[0m\u001b[1;32m     68\u001b[0m     \u001b[0;32mfinally\u001b[0m\u001b[0;34m:\u001b[0m\u001b[0;34m\u001b[0m\u001b[0;34m\u001b[0m\u001b[0m\n\u001b[1;32m     69\u001b[0m       \u001b[0;32mdel\u001b[0m \u001b[0mfiltered_tb\u001b[0m\u001b[0;34m\u001b[0m\u001b[0;34m\u001b[0m\u001b[0m\n",
            "\u001b[0;32m/usr/local/lib/python3.7/dist-packages/keras/engine/training.py\u001b[0m in \u001b[0;36mtf__train_function\u001b[0;34m(iterator)\u001b[0m\n\u001b[1;32m     13\u001b[0m                 \u001b[0;32mtry\u001b[0m\u001b[0;34m:\u001b[0m\u001b[0;34m\u001b[0m\u001b[0;34m\u001b[0m\u001b[0m\n\u001b[1;32m     14\u001b[0m                     \u001b[0mdo_return\u001b[0m \u001b[0;34m=\u001b[0m \u001b[0;32mTrue\u001b[0m\u001b[0;34m\u001b[0m\u001b[0;34m\u001b[0m\u001b[0m\n\u001b[0;32m---> 15\u001b[0;31m                     \u001b[0mretval_\u001b[0m \u001b[0;34m=\u001b[0m \u001b[0mag__\u001b[0m\u001b[0;34m.\u001b[0m\u001b[0mconverted_call\u001b[0m\u001b[0;34m(\u001b[0m\u001b[0mag__\u001b[0m\u001b[0;34m.\u001b[0m\u001b[0mld\u001b[0m\u001b[0;34m(\u001b[0m\u001b[0mstep_function\u001b[0m\u001b[0;34m)\u001b[0m\u001b[0;34m,\u001b[0m \u001b[0;34m(\u001b[0m\u001b[0mag__\u001b[0m\u001b[0;34m.\u001b[0m\u001b[0mld\u001b[0m\u001b[0;34m(\u001b[0m\u001b[0mself\u001b[0m\u001b[0;34m)\u001b[0m\u001b[0;34m,\u001b[0m \u001b[0mag__\u001b[0m\u001b[0;34m.\u001b[0m\u001b[0mld\u001b[0m\u001b[0;34m(\u001b[0m\u001b[0miterator\u001b[0m\u001b[0;34m)\u001b[0m\u001b[0;34m)\u001b[0m\u001b[0;34m,\u001b[0m \u001b[0;32mNone\u001b[0m\u001b[0;34m,\u001b[0m \u001b[0mfscope\u001b[0m\u001b[0;34m)\u001b[0m\u001b[0;34m\u001b[0m\u001b[0;34m\u001b[0m\u001b[0m\n\u001b[0m\u001b[1;32m     16\u001b[0m                 \u001b[0;32mexcept\u001b[0m\u001b[0;34m:\u001b[0m\u001b[0;34m\u001b[0m\u001b[0;34m\u001b[0m\u001b[0m\n\u001b[1;32m     17\u001b[0m                     \u001b[0mdo_return\u001b[0m \u001b[0;34m=\u001b[0m \u001b[0;32mFalse\u001b[0m\u001b[0;34m\u001b[0m\u001b[0;34m\u001b[0m\u001b[0m\n",
            "\u001b[0;31mValueError\u001b[0m: in user code:\n\n    File \"/usr/local/lib/python3.7/dist-packages/keras/engine/training.py\", line 1051, in train_function  *\n        return step_function(self, iterator)\n    File \"/usr/local/lib/python3.7/dist-packages/keras/engine/training.py\", line 1040, in step_function  **\n        outputs = model.distribute_strategy.run(run_step, args=(data,))\n    File \"/usr/local/lib/python3.7/dist-packages/keras/engine/training.py\", line 1030, in run_step  **\n        outputs = model.train_step(data)\n    File \"/usr/local/lib/python3.7/dist-packages/keras/engine/training.py\", line 890, in train_step\n        loss = self.compute_loss(x, y, y_pred, sample_weight)\n    File \"/usr/local/lib/python3.7/dist-packages/keras/engine/training.py\", line 949, in compute_loss\n        y, y_pred, sample_weight, regularization_losses=self.losses)\n    File \"/usr/local/lib/python3.7/dist-packages/keras/engine/compile_utils.py\", line 201, in __call__\n        loss_value = loss_obj(y_t, y_p, sample_weight=sw)\n    File \"/usr/local/lib/python3.7/dist-packages/keras/losses.py\", line 139, in __call__\n        losses = call_fn(y_true, y_pred)\n    File \"/usr/local/lib/python3.7/dist-packages/keras/losses.py\", line 243, in call  **\n        return ag_fn(y_true, y_pred, **self._fn_kwargs)\n    File \"/usr/local/lib/python3.7/dist-packages/keras/losses.py\", line 1788, in categorical_crossentropy\n        y_true, y_pred, from_logits=from_logits, axis=axis)\n    File \"/usr/local/lib/python3.7/dist-packages/keras/backend.py\", line 5119, in categorical_crossentropy\n        target.shape.assert_is_compatible_with(output.shape)\n\n    ValueError: Shapes (None, 2) and (None, 3) are incompatible\n"
          ]
        }
      ]
    },
    {
      "cell_type": "code",
      "source": [],
      "metadata": {
        "id": "3he4rEaSYRn_"
      },
      "execution_count": null,
      "outputs": []
    }
  ]
}